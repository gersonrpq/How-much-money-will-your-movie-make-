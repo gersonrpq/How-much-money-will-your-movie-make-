{
 "cells": [
  {
   "cell_type": "code",
   "execution_count": 1,
   "metadata": {},
   "outputs": [],
   "source": [
    "import warnings\n",
    "warnings.simplefilter('ignore')"
   ]
  },
  {
   "cell_type": "code",
   "execution_count": 2,
   "metadata": {},
   "outputs": [],
   "source": [
    "%matplotlib inline\n",
    "import numpy as np\n",
    "import pandas as pd\n",
    "import matplotlib.pyplot as plt"
   ]
  },
  {
   "cell_type": "code",
   "execution_count": 5,
   "metadata": {},
   "outputs": [],
   "source": [
    "X = pd.read_csv('./intermediate_results/X_PLUS.csv') # using the data created last notebook\n",
    "y = X['worldwide_gross']\n",
    "X = X.drop('worldwide_gross',axis=1).drop('Unnamed: 0', axis=1)"
   ]
  },
  {
   "cell_type": "markdown",
   "metadata": {},
   "source": [
    "# Applying Random Forest"
   ]
  },
  {
   "cell_type": "code",
   "execution_count": 19,
   "metadata": {},
   "outputs": [],
   "source": [
    "from sklearn.ensemble import RandomForestRegressor as RFR\n",
    "from sklearn.model_selection import cross_validate"
   ]
  },
  {
   "cell_type": "code",
   "execution_count": 20,
   "metadata": {},
   "outputs": [],
   "source": [
    "forest = RFR(200)\n",
    "results = cross_validate(forest,X,y,cv=5,scoring='r2',return_train_score=True)"
   ]
  },
  {
   "cell_type": "code",
   "execution_count": 21,
   "metadata": {},
   "outputs": [
    {
     "name": "stdout",
     "output_type": "stream",
     "text": [
      "0.966124674331985\n",
      "0.7511354321253354\n"
     ]
    }
   ],
   "source": [
    "test_scores = results['test_score']\n",
    "train_scores = results['train_score']\n",
    "print(np.mean(train_scores))\n",
    "print(np.mean(test_scores)) # Random has good results but they can be even better"
   ]
  },
  {
   "cell_type": "markdown",
   "metadata": {},
   "source": [
    "# Applying Gradient Boosting Tree"
   ]
  },
  {
   "cell_type": "code",
   "execution_count": 22,
   "metadata": {},
   "outputs": [],
   "source": [
    "from sklearn.ensemble import GradientBoostingRegressor as GBR\n",
    "\n",
    "ensemble = GBR() # one the most powerfull method "
   ]
  },
  {
   "cell_type": "code",
   "execution_count": 23,
   "metadata": {},
   "outputs": [],
   "source": [
    "results = cross_validate(ensemble,X,y,cv=5,scoring='r2',return_train_score=True)"
   ]
  },
  {
   "cell_type": "code",
   "execution_count": 24,
   "metadata": {},
   "outputs": [
    {
     "name": "stdout",
     "output_type": "stream",
     "text": [
      "0.9226960450130575\n",
      "0.7447140813109439\n"
     ]
    }
   ],
   "source": [
    "test_scores = results['test_score']\n",
    "train_scores = results['train_score']\n",
    "print(np.mean(train_scores))\n",
    "print(np.mean(test_scores)) # it has good result, but les optimize its parameters"
   ]
  },
  {
   "cell_type": "markdown",
   "metadata": {},
   "source": [
    "# Optimazing Hiperparameters"
   ]
  },
  {
   "cell_type": "code",
   "execution_count": 25,
   "metadata": {},
   "outputs": [],
   "source": [
    "from sklearn.model_selection import GridSearchCV\n",
    "\n",
    "param_test1 = {'n_estimators': range(20,501,20)} # parameter to change"
   ]
  },
  {
   "cell_type": "code",
   "execution_count": 26,
   "metadata": {},
   "outputs": [],
   "source": [
    "estimator =GBR(learning_rate = 0.1,\n",
    "              min_samples_split=500,\n",
    "              min_samples_leaf=50,\n",
    "              max_depth=8,\n",
    "              max_features='sqrt',\n",
    "              subsample=0.8,\n",
    "              random_state=10) # Best configuration of parameter for this problem"
   ]
  },
  {
   "cell_type": "code",
   "execution_count": 27,
   "metadata": {},
   "outputs": [],
   "source": [
    "gsearch1 = GridSearchCV(estimator,\n",
    "                       param_grid = param_test1,\n",
    "                       scoring='r2',\n",
    "                       cv=5) # ensembling the searcher for the best parameter"
   ]
  },
  {
   "cell_type": "code",
   "execution_count": 28,
   "metadata": {},
   "outputs": [
    {
     "data": {
      "text/plain": [
       "GridSearchCV(cv=5, error_score='raise-deprecating',\n",
       "             estimator=GradientBoostingRegressor(alpha=0.9,\n",
       "                                                 criterion='friedman_mse',\n",
       "                                                 init=None, learning_rate=0.1,\n",
       "                                                 loss='ls', max_depth=8,\n",
       "                                                 max_features='sqrt',\n",
       "                                                 max_leaf_nodes=None,\n",
       "                                                 min_impurity_decrease=0.0,\n",
       "                                                 min_impurity_split=None,\n",
       "                                                 min_samples_leaf=50,\n",
       "                                                 min_samples_split=500,\n",
       "                                                 min_weight_fraction_leaf=0.0,\n",
       "                                                 n_estimators=100,\n",
       "                                                 n_iter_no_change=None,\n",
       "                                                 presort='auto',\n",
       "                                                 random_state=10, subsample=0.8,\n",
       "                                                 tol=0.0001,\n",
       "                                                 validation_fraction=0.1,\n",
       "                                                 verbose=0, warm_start=False),\n",
       "             iid='warn', n_jobs=None,\n",
       "             param_grid={'n_estimators': range(20, 501, 20)},\n",
       "             pre_dispatch='2*n_jobs', refit=True, return_train_score=False,\n",
       "             scoring='r2', verbose=0)"
      ]
     },
     "execution_count": 28,
     "metadata": {},
     "output_type": "execute_result"
    }
   ],
   "source": [
    "gsearch1.fit(X_train,y_train) # applying the searcher"
   ]
  },
  {
   "cell_type": "code",
   "execution_count": 29,
   "metadata": {
    "scrolled": true
   },
   "outputs": [
    {
     "data": {
      "text/plain": [
       "({'mean_fit_time': array([0.02688909, 0.04561648, 0.0676096 , 0.08964581, 0.11042566,\n",
       "         0.13307352, 0.15445266, 0.19933877, 0.25923696, 0.25033464,\n",
       "         0.26515322, 0.33765407, 0.30567536, 0.39145484, 0.36665106,\n",
       "         0.36425552, 0.43579473, 0.41354012, 0.4399024 , 0.47031817,\n",
       "         0.59667292, 0.53775158, 0.51537786, 0.57125645, 0.58378201]),\n",
       "  'std_fit_time': array([0.0037622 , 0.00010856, 0.00081749, 0.00285226, 0.00101993,\n",
       "         0.00138933, 0.00240895, 0.02639117, 0.03124356, 0.02129826,\n",
       "         0.02834715, 0.00890734, 0.02706268, 0.06060587, 0.03134385,\n",
       "         0.0118647 , 0.02273173, 0.0181373 , 0.01113533, 0.01821028,\n",
       "         0.05519223, 0.03614403, 0.01281186, 0.03008992, 0.01463472]),\n",
       "  'mean_score_time': array([0.00202451, 0.00219421, 0.00245242, 0.00259228, 0.00276699,\n",
       "         0.00301538, 0.00316353, 0.00340958, 0.0039268 , 0.00427794,\n",
       "         0.00428729, 0.00468807, 0.00452285, 0.00577946, 0.00473971,\n",
       "         0.00495496, 0.00566115, 0.00525637, 0.00560637, 0.00576572,\n",
       "         0.00623903, 0.00630107, 0.00623593, 0.0066494 , 0.00668621]),\n",
       "  'std_score_time': array([3.81018252e-05, 1.75929003e-05, 1.28967078e-04, 4.35458073e-05,\n",
       "         2.36578516e-05, 1.05773467e-04, 3.42472003e-05, 5.22919725e-05,\n",
       "         3.35938848e-04, 5.52202835e-04, 6.40894763e-04, 2.47682247e-04,\n",
       "         3.59383736e-04, 1.38893255e-03, 6.97347893e-05, 1.57915739e-04,\n",
       "         6.55738540e-04, 1.00590536e-04, 1.76742856e-04, 1.40396553e-04,\n",
       "         3.48560024e-04, 3.91370952e-04, 1.46290858e-04, 3.11793554e-04,\n",
       "         2.76544998e-05]),\n",
       "  'param_n_estimators': masked_array(data=[20, 40, 60, 80, 100, 120, 140, 160, 180, 200, 220, 240,\n",
       "                     260, 280, 300, 320, 340, 360, 380, 400, 420, 440, 460,\n",
       "                     480, 500],\n",
       "               mask=[False, False, False, False, False, False, False, False,\n",
       "                     False, False, False, False, False, False, False, False,\n",
       "                     False, False, False, False, False, False, False, False,\n",
       "                     False],\n",
       "         fill_value='?',\n",
       "              dtype=object),\n",
       "  'params': [{'n_estimators': 20},\n",
       "   {'n_estimators': 40},\n",
       "   {'n_estimators': 60},\n",
       "   {'n_estimators': 80},\n",
       "   {'n_estimators': 100},\n",
       "   {'n_estimators': 120},\n",
       "   {'n_estimators': 140},\n",
       "   {'n_estimators': 160},\n",
       "   {'n_estimators': 180},\n",
       "   {'n_estimators': 200},\n",
       "   {'n_estimators': 220},\n",
       "   {'n_estimators': 240},\n",
       "   {'n_estimators': 260},\n",
       "   {'n_estimators': 280},\n",
       "   {'n_estimators': 300},\n",
       "   {'n_estimators': 320},\n",
       "   {'n_estimators': 340},\n",
       "   {'n_estimators': 360},\n",
       "   {'n_estimators': 380},\n",
       "   {'n_estimators': 400},\n",
       "   {'n_estimators': 420},\n",
       "   {'n_estimators': 440},\n",
       "   {'n_estimators': 460},\n",
       "   {'n_estimators': 480},\n",
       "   {'n_estimators': 500}],\n",
       "  'split0_test_score': array([0.44892572, 0.49337476, 0.50742552, 0.50811945, 0.51653103,\n",
       "         0.5223044 , 0.52569321, 0.53336163, 0.53685302, 0.53985919,\n",
       "         0.54631802, 0.54696173, 0.5473008 , 0.54739054, 0.54660875,\n",
       "         0.54704759, 0.54896841, 0.55292408, 0.55165059, 0.55322728,\n",
       "         0.55276788, 0.55622585, 0.55673832, 0.55825202, 0.55520642]),\n",
       "  'split1_test_score': array([0.70008392, 0.72503133, 0.73265502, 0.73461176, 0.73545243,\n",
       "         0.73867871, 0.74057777, 0.74517626, 0.74440053, 0.74814481,\n",
       "         0.74568298, 0.74719744, 0.74727311, 0.7470745 , 0.7492155 ,\n",
       "         0.74865672, 0.74819536, 0.74956694, 0.74638123, 0.74495002,\n",
       "         0.74451336, 0.74760478, 0.74490377, 0.74580835, 0.74387394]),\n",
       "  'split2_test_score': array([0.7669442 , 0.81166531, 0.81605943, 0.82456551, 0.8260518 ,\n",
       "         0.8281192 , 0.82827435, 0.82932159, 0.82841519, 0.82938765,\n",
       "         0.82933085, 0.82660602, 0.83057471, 0.82805636, 0.82770722,\n",
       "         0.82846038, 0.825635  , 0.82396015, 0.82297328, 0.82097718,\n",
       "         0.82157834, 0.81783664, 0.82251113, 0.82090747, 0.82209218]),\n",
       "  'split3_test_score': array([0.64224983, 0.67728096, 0.68091156, 0.67589865, 0.67301845,\n",
       "         0.67014973, 0.6719428 , 0.67040984, 0.67229953, 0.66889881,\n",
       "         0.66491289, 0.664009  , 0.66293621, 0.66624707, 0.66302234,\n",
       "         0.66596209, 0.65998052, 0.66382103, 0.66545707, 0.66517969,\n",
       "         0.66855117, 0.66534422, 0.6650914 , 0.66657426, 0.66230928]),\n",
       "  'split4_test_score': array([0.72392035, 0.77571377, 0.78410354, 0.79181526, 0.79437226,\n",
       "         0.79804859, 0.79645914, 0.79764316, 0.79711222, 0.79488688,\n",
       "         0.79506179, 0.79197677, 0.79025591, 0.79029277, 0.78710478,\n",
       "         0.78192363, 0.77883603, 0.7785317 , 0.77475433, 0.77704198,\n",
       "         0.77764103, 0.77442622, 0.77053389, 0.77341714, 0.76996596]),\n",
       "  'mean_test_score': array([0.65639395, 0.69657864, 0.70419829, 0.70697104, 0.70905671,\n",
       "         0.71143392, 0.71256444, 0.71516068, 0.71579423, 0.71621735,\n",
       "         0.71624542, 0.71533556, 0.7156555 , 0.71579783, 0.71471976,\n",
       "         0.71439905, 0.71231486, 0.7137522 , 0.7122342 , 0.712265  ,\n",
       "         0.71299868, 0.71227875, 0.71194892, 0.71298374, 0.71068325]),\n",
       "  'std_test_score': array([0.11134722, 0.11138548, 0.10864396, 0.11166642, 0.10961102,\n",
       "         0.1089736 , 0.10754028, 0.10566895, 0.1039847 , 0.10333866,\n",
       "         0.1014013 , 0.10028747, 0.10092444, 0.09998064, 0.10016464,\n",
       "         0.09912884, 0.09798946, 0.09593492, 0.09523437, 0.09447305,\n",
       "         0.09449303, 0.09256355, 0.09280269, 0.09220118, 0.09335368]),\n",
       "  'rank_test_score': array([25, 24, 23, 22, 21, 19, 13,  7,  4,  2,  1,  6,  5,  3,  8,  9, 14,\n",
       "         10, 17, 16, 11, 15, 18, 12, 20], dtype=int32)},\n",
       " {'n_estimators': 220},\n",
       " 0.7162454212149368)"
      ]
     },
     "execution_count": 29,
     "metadata": {},
     "output_type": "execute_result"
    }
   ],
   "source": [
    "gsearch1.cv_results_ ,gsearch1.best_params_,gsearch1.best_score_ # the best parameter is 220 for number of estimators"
   ]
  },
  {
   "cell_type": "code",
   "execution_count": 30,
   "metadata": {},
   "outputs": [],
   "source": [
    "final_result = cross_validate(gsearch1.best_estimator_,X_train,y_train,return_train_score=True)\n",
    "#cross validating"
   ]
  },
  {
   "cell_type": "code",
   "execution_count": 31,
   "metadata": {},
   "outputs": [
    {
     "name": "stdout",
     "output_type": "stream",
     "text": [
      "0.7889689900229396\n",
      "0.6990678884540423\n"
     ]
    }
   ],
   "source": [
    "test_scores = final_result['test_score']\n",
    "train_scores = final_result['train_score']\n",
    "print(np.mean(train_scores))\n",
    "print(np.mean(test_scores)) # they seems to be not good enough but let's try with the test values"
   ]
  },
  {
   "cell_type": "code",
   "execution_count": 32,
   "metadata": {},
   "outputs": [],
   "source": [
    "estimator =GBR(learning_rate = 0.1,\n",
    "              min_samples_split=500,\n",
    "              min_samples_leaf=50,\n",
    "              max_depth=8,\n",
    "              max_features='sqrt',\n",
    "              subsample=0.8,\n",
    "              random_state=10,\n",
    "              n_estimators = 220)"
   ]
  },
  {
   "cell_type": "code",
   "execution_count": 33,
   "metadata": {},
   "outputs": [
    {
     "data": {
      "text/plain": [
       "GradientBoostingRegressor(alpha=0.9, criterion='friedman_mse', init=None,\n",
       "                          learning_rate=0.1, loss='ls', max_depth=8,\n",
       "                          max_features='sqrt', max_leaf_nodes=None,\n",
       "                          min_impurity_decrease=0.0, min_impurity_split=None,\n",
       "                          min_samples_leaf=50, min_samples_split=500,\n",
       "                          min_weight_fraction_leaf=0.0, n_estimators=220,\n",
       "                          n_iter_no_change=None, presort='auto',\n",
       "                          random_state=10, subsample=0.8, tol=0.0001,\n",
       "                          validation_fraction=0.1, verbose=0, warm_start=False)"
      ]
     },
     "execution_count": 33,
     "metadata": {},
     "output_type": "execute_result"
    }
   ],
   "source": [
    "estimator.fit(X_train,y_train)"
   ]
  },
  {
   "cell_type": "code",
   "execution_count": 34,
   "metadata": {},
   "outputs": [
    {
     "data": {
      "text/plain": [
       "0.8064928781402682"
      ]
     },
     "execution_count": 34,
     "metadata": {},
     "output_type": "execute_result"
    }
   ],
   "source": [
    "estimator.score(X_test,y_test) # Gradient Boosting Tree has the best correlation for this problem"
   ]
  }
 ],
 "metadata": {
  "kernelspec": {
   "display_name": "Python 3",
   "language": "python",
   "name": "python3"
  },
  "language_info": {
   "codemirror_mode": {
    "name": "ipython",
    "version": 3
   },
   "file_extension": ".py",
   "mimetype": "text/x-python",
   "name": "python",
   "nbconvert_exporter": "python",
   "pygments_lexer": "ipython3",
   "version": "3.7.3"
  }
 },
 "nbformat": 4,
 "nbformat_minor": 2
}
