{
 "cells": [
  {
   "cell_type": "code",
   "execution_count": 3,
   "metadata": {},
   "outputs": [],
   "source": [
    "import warnings\n",
    "warnings.simplefilter(\"ignore\")"
   ]
  },
  {
   "cell_type": "code",
   "execution_count": 4,
   "metadata": {},
   "outputs": [],
   "source": [
    "%matplotlib inline\n",
    "import numpy as np\n",
    "import pandas as pd\n",
    "from matplotlib import pyplot as plt"
   ]
  },
  {
   "cell_type": "markdown",
   "metadata": {},
   "source": [
    "# Adding more information"
   ]
  },
  {
   "cell_type": "markdown",
   "metadata": {},
   "source": [
    "Since results have not been good enough, data wil be filled with a little more information"
   ]
  },
  {
   "cell_type": "code",
   "execution_count": 12,
   "metadata": {},
   "outputs": [],
   "source": [
    "movies = pd.read_csv('./datasets/peliculas.csv')\n",
    "financials = pd.read_csv('./datasets/thenumbers.csv')\n",
    "opening_gross = pd.read_csv('./datasets/opening_df.csv')\n",
    "# this process had been already done, but now new columns will be added"
   ]
  },
  {
   "cell_type": "code",
   "execution_count": 15,
   "metadata": {
    "scrolled": false
   },
   "outputs": [],
   "source": [
    "num = (movies.dtypes == float) | (movies.dtypes == int)\n",
    "num_cols = [i for i in num.index if num[i]]\n",
    "movies_num = movies[num_cols]\n",
    "financials = financials[['movie_title','production_budget','worldwide_gross']]\n",
    "movies_num = pd.concat([movies_num,movies['movie_title']], axis=1)\n",
    "movies_v2 = pd.merge(financials,movies_num, on= 'movie_title', how='left')"
   ]
  },
  {
   "cell_type": "code",
   "execution_count": 17,
   "metadata": {},
   "outputs": [],
   "source": [
    "movies_v2 = movies_v2.drop('gross',axis=1).drop('duration.1',axis=1)\n",
    "#this process has alredy been done on Data preparation"
   ]
  },
  {
   "cell_type": "code",
   "execution_count": 19,
   "metadata": {},
   "outputs": [],
   "source": [
    "movies_v3 = pd.merge(opening_gross,movies_v2,on='movie_title',how='left')"
   ]
  },
  {
   "cell_type": "code",
   "execution_count": 30,
   "metadata": {},
   "outputs": [],
   "source": [
    "movies_v3 = movies_v3.drop('Unnamed: 0',axis=1).drop('movie_title',axis=1)"
   ]
  },
  {
   "cell_type": "code",
   "execution_count": 32,
   "metadata": {},
   "outputs": [],
   "source": [
    "from sklearn.impute import SimpleImputer as Imputer\n",
    "imputer = Imputer(missing_values=np.nan, strategy='mean')"
   ]
  },
  {
   "cell_type": "code",
   "execution_count": 34,
   "metadata": {},
   "outputs": [],
   "source": [
    "values = imputer.fit_transform(movies_v3)"
   ]
  },
  {
   "cell_type": "code",
   "execution_count": 35,
   "metadata": {},
   "outputs": [],
   "source": [
    "X = pd.DataFrame(values)"
   ]
  },
  {
   "cell_type": "code",
   "execution_count": 36,
   "metadata": {},
   "outputs": [],
   "source": [
    "X.columns = movies_v3.columns"
   ]
  },
  {
   "cell_type": "code",
   "execution_count": 38,
   "metadata": {},
   "outputs": [],
   "source": [
    "X.index = movies_v3.index"
   ]
  },
  {
   "cell_type": "code",
   "execution_count": 44,
   "metadata": {},
   "outputs": [],
   "source": [
    "X.to_csv('./intermediate_results/X_PLUS.csv')"
   ]
  },
  {
   "cell_type": "code",
   "execution_count": 46,
   "metadata": {},
   "outputs": [],
   "source": [
    "y = X['worldwide_gross']\n",
    "X = X.drop('worldwide_gross',axis=1)\n",
    "# now there are more features that can give information to predict the worldwide_gross,\n",
    "# the information now give was the amount of screen  were the movies were presented\n",
    "# and the gross gotten on the first week of the movie"
   ]
  },
  {
   "cell_type": "markdown",
   "metadata": {},
   "source": [
    "# Method evaluation"
   ]
  },
  {
   "cell_type": "code",
   "execution_count": 48,
   "metadata": {},
   "outputs": [],
   "source": [
    "from sklearn.model_selection import train_test_split\n",
    "\n",
    "X_train,X_test,y_train,y_test=train_test_split(X,y,random_state=1)"
   ]
  },
  {
   "cell_type": "code",
   "execution_count": 50,
   "metadata": {},
   "outputs": [
    {
     "data": {
      "text/plain": [
       "array([0.73774447, 0.74140008, 0.79545382, 0.81606133, 0.63143067])"
      ]
     },
     "execution_count": 50,
     "metadata": {},
     "output_type": "execute_result"
    }
   ],
   "source": [
    "from sklearn.model_selection import cross_val_score\n",
    "from sklearn.linear_model import Lasso\n",
    "\n",
    "scores = cross_val_score(Lasso(),X,y,cv=5,scoring='r2')\n",
    "scores\n",
    "# using Lasso to make a cross validation "
   ]
  },
  {
   "cell_type": "code",
   "execution_count": 51,
   "metadata": {},
   "outputs": [
    {
     "data": {
      "text/plain": [
       "0.7444180735484411"
      ]
     },
     "execution_count": 51,
     "metadata": {},
     "output_type": "execute_result"
    }
   ],
   "source": [
    "scores.mean()\n",
    "# the mean of the scores gotten"
   ]
  },
  {
   "cell_type": "code",
   "execution_count": 52,
   "metadata": {},
   "outputs": [
    {
     "data": {
      "text/plain": [
       "0.7940988733704553"
      ]
     },
     "execution_count": 52,
     "metadata": {},
     "output_type": "execute_result"
    }
   ],
   "source": [
    "Lasso().fit(X_train,y_train).score(X_test,y_test)\n",
    "#this is the new score when predicting the worldwide_gross, this could be improved"
   ]
  },
  {
   "cell_type": "markdown",
   "metadata": {},
   "source": [
    "# Selecting model (Applying Cross-Validation)"
   ]
  },
  {
   "cell_type": "code",
   "execution_count": 53,
   "metadata": {},
   "outputs": [],
   "source": [
    "from sklearn.model_selection import cross_validate"
   ]
  },
  {
   "cell_type": "code",
   "execution_count": 54,
   "metadata": {},
   "outputs": [
    {
     "data": {
      "text/plain": [
       "{'fit_time': array([0.02134442, 0.01591825, 0.00673676, 0.04171371, 0.04068279]),\n",
       " 'score_time': array([0.00236988, 0.00275874, 0.00325656, 0.00212169, 0.00208092]),\n",
       " 'test_score': array([0.73774447, 0.74140008, 0.79545382, 0.81606133, 0.63143067]),\n",
       " 'train_score': array([0.75403753, 0.75450844, 0.74405841, 0.73100588, 0.78159958])}"
      ]
     },
     "execution_count": 54,
     "metadata": {},
     "output_type": "execute_result"
    }
   ],
   "source": [
    "results = cross_validate(Lasso(),X,y,return_train_score=True,cv=5)\n",
    "results "
   ]
  },
  {
   "cell_type": "code",
   "execution_count": 55,
   "metadata": {},
   "outputs": [
    {
     "name": "stdout",
     "output_type": "stream",
     "text": [
      "0.7530419676918244\n",
      "0.7444180735484411\n"
     ]
    }
   ],
   "source": [
    "test_scores = results['test_score']\n",
    "train_scores = results['train_score']\n",
    "print(np.mean(train_scores))\n",
    "print(np.mean(test_scores))\n",
    "# comparing the the scores when the model is learning and when the model is predicting, let's change the method!"
   ]
  },
  {
   "cell_type": "markdown",
   "metadata": {},
   "source": [
    "# Validation curve and Learning Curve"
   ]
  },
  {
   "cell_type": "code",
   "execution_count": 56,
   "metadata": {},
   "outputs": [],
   "source": [
    "from sklearn.neighbors import KNeighborsRegressor as KNR\n",
    "# KNR will be the new method to be applied"
   ]
  },
  {
   "cell_type": "code",
   "execution_count": 59,
   "metadata": {},
   "outputs": [
    {
     "data": {
      "text/plain": [
       "{'fit_time': array([0.00529981, 0.00600934, 0.00400066, 0.00397968, 0.00397968]),\n",
       " 'score_time': array([0.00743222, 0.00716043, 0.00619245, 0.00665331, 0.00689507]),\n",
       " 'test_score': array([0.59821325, 0.62968738, 0.68181298, 0.79542433, 0.57510309]),\n",
       " 'train_score': array([0.79328354, 0.77848631, 0.77796721, 0.75849495, 0.80916717])}"
      ]
     },
     "execution_count": 59,
     "metadata": {},
     "output_type": "execute_result"
    }
   ],
   "source": [
    "cross_validate(KNR(),X,y,cv=5,return_train_score=True) #applying KNR with the default number uf neighbors"
   ]
  },
  {
   "cell_type": "code",
   "execution_count": 60,
   "metadata": {},
   "outputs": [
    {
     "data": {
      "text/plain": [
       "{'fit_time': array([0.00520515, 0.00452185, 0.0039947 , 0.00449109, 0.00401378]),\n",
       " 'score_time': array([0.00814724, 0.00774074, 0.00741935, 0.00672865, 0.00662851]),\n",
       " 'test_score': array([0.65306847, 0.64580186, 0.70176968, 0.79375629, 0.57312523]),\n",
       " 'train_score': array([0.75370174, 0.75328266, 0.73155638, 0.71785447, 0.77263297])}"
      ]
     },
     "execution_count": 60,
     "metadata": {},
     "output_type": "execute_result"
    }
   ],
   "source": [
    "cross_validate(KNR(n_neighbors = 10),X,y,cv=5,return_train_score=True)#applying KNR with 10 number of neighbors"
   ]
  },
  {
   "cell_type": "code",
   "execution_count": 61,
   "metadata": {},
   "outputs": [],
   "source": [
    "n=np.arange(2,50,2) # this will be the range where the number of neighbors will exist"
   ]
  },
  {
   "cell_type": "code",
   "execution_count": 62,
   "metadata": {},
   "outputs": [],
   "source": [
    "from sklearn.model_selection import validation_curve"
   ]
  },
  {
   "cell_type": "code",
   "execution_count": 63,
   "metadata": {},
   "outputs": [],
   "source": [
    "train_scores,test_scores = validation_curve(KNR(),\n",
    "                                                X,\n",
    "                                                y,\n",
    "                                                param_name='n_neighbors',\n",
    "                                                param_range=n,\n",
    "                                                cv=5)\n",
    "#applying the range of numbers of neighbors"
   ]
  },
  {
   "cell_type": "code",
   "execution_count": 64,
   "metadata": {},
   "outputs": [
    {
     "data": {
      "text/plain": [
       "array([0.87471454, 0.79824319, 0.77349671, 0.75626034, 0.74580565,\n",
       "       0.73526339, 0.72552407, 0.71681661, 0.71173612, 0.7071404 ,\n",
       "       0.70491619, 0.7006084 , 0.69706256, 0.69526317, 0.69234892,\n",
       "       0.68897647, 0.68601135, 0.68303791, 0.67976695, 0.67648867,\n",
       "       0.673862  , 0.67211224, 0.66950805, 0.66711713])"
      ]
     },
     "execution_count": 64,
     "metadata": {},
     "output_type": "execute_result"
    }
   ],
   "source": [
    "np.mean(train_scores,axis=1) #applying the mean to the scores"
   ]
  },
  {
   "cell_type": "code",
   "execution_count": 65,
   "metadata": {},
   "outputs": [
    {
     "data": {
      "text/plain": [
       "array([0.57784605, 0.64262706, 0.66423034, 0.6680601 , 0.67350431,\n",
       "       0.67580262, 0.66972714, 0.66908447, 0.67108563, 0.67326752,\n",
       "       0.67069467, 0.66968618, 0.66843397, 0.66619896, 0.66421786,\n",
       "       0.66155192, 0.66066663, 0.66027601, 0.6583934 , 0.65623105,\n",
       "       0.65512835, 0.65331188, 0.65230719, 0.65030315])"
      ]
     },
     "execution_count": 65,
     "metadata": {},
     "output_type": "execute_result"
    }
   ],
   "source": [
    "np.mean(test_scores,axis=1)"
   ]
  },
  {
   "cell_type": "code",
   "execution_count": 66,
   "metadata": {
    "scrolled": false
   },
   "outputs": [
    {
     "data": {
      "text/plain": [
       "([<matplotlib.axis.XTick at 0x7fbc7f5d4828>,\n",
       "  <matplotlib.axis.XTick at 0x7fbc7f53b9e8>,\n",
       "  <matplotlib.axis.XTick at 0x7fbc7f5d47b8>,\n",
       "  <matplotlib.axis.XTick at 0x7fbc7f51aa58>,\n",
       "  <matplotlib.axis.XTick at 0x7fbc7f51af28>,\n",
       "  <matplotlib.axis.XTick at 0x7fbc7f528438>,\n",
       "  <matplotlib.axis.XTick at 0x7fbc7f528940>,\n",
       "  <matplotlib.axis.XTick at 0x7fbc7f528eb8>,\n",
       "  <matplotlib.axis.XTick at 0x7fbc7f4af470>,\n",
       "  <matplotlib.axis.XTick at 0x7fbc7f4af9e8>,\n",
       "  <matplotlib.axis.XTick at 0x7fbc7f4aff60>,\n",
       "  <matplotlib.axis.XTick at 0x7fbc7f4b4518>,\n",
       "  <matplotlib.axis.XTick at 0x7fbc7f4af9b0>,\n",
       "  <matplotlib.axis.XTick at 0x7fbc7f51afd0>,\n",
       "  <matplotlib.axis.XTick at 0x7fbc7f4b4a90>,\n",
       "  <matplotlib.axis.XTick at 0x7fbc7f4ba0b8>,\n",
       "  <matplotlib.axis.XTick at 0x7fbc7f4ba5c0>,\n",
       "  <matplotlib.axis.XTick at 0x7fbc7f4bab38>,\n",
       "  <matplotlib.axis.XTick at 0x7fbc7f4c1160>,\n",
       "  <matplotlib.axis.XTick at 0x7fbc7f4c1668>,\n",
       "  <matplotlib.axis.XTick at 0x7fbc7f4c1be0>,\n",
       "  <matplotlib.axis.XTick at 0x7fbc7f4c1710>,\n",
       "  <matplotlib.axis.XTick at 0x7fbc7f4bab00>,\n",
       "  <matplotlib.axis.XTick at 0x7fbc7f528748>],\n",
       " <a list of 24 Text xticklabel objects>)"
      ]
     },
     "execution_count": 66,
     "metadata": {},
     "output_type": "execute_result"
    },
    {
     "data": {
      "image/png": "[encoded data removed]",
      "text/plain": [
       "<Figure size 432x288 with 1 Axes>"
      ]
     },
     "metadata": {
      "needs_background": "light"
     },
     "output_type": "display_data"
    }
   ],
   "source": [
    "plt.plot(np.mean(train_scores,axis=1))\n",
    "plt.plot(np.mean(test_scores,axis=1))\n",
    "plt.xticks(np.arange(24),n)\n",
    "# ploting the validation curve "
   ]
  },
  {
   "cell_type": "code",
   "execution_count": 67,
   "metadata": {},
   "outputs": [],
   "source": [
    "from sklearn.model_selection import learning_curve"
   ]
  },
  {
   "cell_type": "code",
   "execution_count": 68,
   "metadata": {},
   "outputs": [],
   "source": [
    "samples ,train, test =learning_curve(KNR(n_neighbors=6),X,y,cv=5) # using learning curve function "
   ]
  },
  {
   "cell_type": "code",
   "execution_count": 69,
   "metadata": {},
   "outputs": [
    {
     "data": {
      "text/plain": [
       "[<matplotlib.lines.Line2D at 0x7fbc7f489b38>]"
      ]
     },
     "execution_count": 69,
     "metadata": {},
     "output_type": "execute_result"
    },
    {
     "data": {
      "image/png": "[encoded data removed]",
      "text/plain": [
       "<Figure size 432x288 with 1 Axes>"
      ]
     },
     "metadata": {
      "needs_background": "light"
     },
     "output_type": "display_data"
    }
   ],
   "source": [
    "plt.plot(samples[1:],np.mean(train,axis=1)[1:])\n",
    "plt.plot(samples[1:],np.mean(test,axis=1)[1:])\n",
    "#ploting the mean of the learning of model KNR"
   ]
  }
 ],
 "metadata": {
  "kernelspec": {
   "display_name": "Python 3",
   "language": "python",
   "name": "python3"
  },
  "language_info": {
   "codemirror_mode": {
    "name": "ipython",
    "version": 3
   },
   "file_extension": ".py",
   "mimetype": "text/x-python",
   "name": "python",
   "nbconvert_exporter": "python",
   "pygments_lexer": "ipython3",
   "version": "3.7.3"
  }
 },
 "nbformat": 4,
 "nbformat_minor": 2
}
